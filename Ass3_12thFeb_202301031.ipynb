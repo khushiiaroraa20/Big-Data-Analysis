{
  "nbformat": 4,
  "nbformat_minor": 0,
  "metadata": {
    "colab": {
      "provenance": [],
      "include_colab_link": true
    },
    "kernelspec": {
      "name": "python3",
      "display_name": "Python 3"
    },
    "language_info": {
      "name": "python"
    }
  },
  "cells": [
    {
      "cell_type": "markdown",
      "metadata": {
        "id": "view-in-github",
        "colab_type": "text"
      },
      "source": [
        "<a href=\"https://colab.research.google.com/github/khushiiaroraa20/Big-Data-Analysis/blob/main/Ass3_12thFeb_202301031.ipynb\" target=\"_parent\"><img src=\"https://colab.research.google.com/assets/colab-badge.svg\" alt=\"Open In Colab\"/></a>"
      ]
    },
    {
      "cell_type": "code",
      "execution_count": null,
      "metadata": {
        "colab": {
          "base_uri": "https://localhost:8080/"
        },
        "id": "Ztuuy6bmSfBr",
        "outputId": "4d3cb119-ff17-4cf5-ffaa-23fff3f59d09"
      },
      "outputs": [
        {
          "output_type": "stream",
          "name": "stdout",
          "text": [
            "   Tid Refund Marital Status Taxable Income Cheat\n",
            "0    1    yes         Single           125K    No\n",
            "1    2     no        Married           100K    No\n",
            "2    3     no         Single            70K    No\n",
            "3    4    yes        Married           120K    No\n",
            "4    5     no       Divorced            95K   Yes\n",
            "5    6     no        Married            60K    No\n",
            "6    7    yes       Divorced           220K    No\n",
            "7    8     no         Single            85K   Yes\n",
            "8    9     no        Married            75K    No\n",
            "9   10     no         Single            90K   Yes\n",
            "Tid                    1\n",
            "Refund               yes\n",
            "Marital Status    Single\n",
            "Taxable Income      125K\n",
            "Cheat                 No\n",
            "Name: 0, dtype: object\n",
            "Tid                      5\n",
            "Refund                  no\n",
            "Marital Status    Divorced\n",
            "Taxable Income         95K\n",
            "Cheat                  Yes\n",
            "Name: 4, dtype: object\n",
            "Tid                    8\n",
            "Refund                no\n",
            "Marital Status    Single\n",
            "Taxable Income       85K\n",
            "Cheat                Yes\n",
            "Name: 7, dtype: object\n",
            "Tid                     9\n",
            "Refund                 no\n",
            "Marital Status    Married\n",
            "Taxable Income        75K\n",
            "Cheat                  No\n",
            "Name: 8, dtype: object\n"
          ]
        }
      ],
      "source": [
        "#Question 1\n",
        "import pandas as pd\n",
        "\n",
        "data = {\"Tid\": [1,2, 3, 4, 5, 6, 7, 8, 9, 10],\n",
        "         \"Refund\": ['yes', 'no', 'no', 'yes', 'no' , 'no', 'yes', 'no', 'no', 'no'],\n",
        "        \"Marital Status\": ['Single', 'Married', 'Single', 'Married', 'Divorced', 'Married', 'Divorced', 'Single', 'Married', 'Single'],\n",
        "        \"Taxable Income\": ['125K', '100K', '70K', '120K', '95K', '60K', '220K', '85K', '75K', '90K'],\n",
        "        \"Cheat\": ['No', 'No', 'No', 'No', 'Yes', 'No', 'No', 'Yes', 'No', 'Yes']}\n",
        "\n",
        "mydata = pd.DataFrame(data)\n",
        "print(mydata)\n",
        "\n",
        "\n",
        "#Question 2\n",
        "\n",
        "print(mydata.loc[0])\n",
        "print(mydata.loc[4])\n",
        "print(mydata.loc[7])\n",
        "print(mydata.loc[8])"
      ]
    },
    {
      "cell_type": "code",
      "source": [
        "from google.colab import drive\n",
        "drive.mount('/content/drive')"
      ],
      "metadata": {
        "colab": {
          "base_uri": "https://localhost:8080/"
        },
        "id": "RDmSBM3oYMMN",
        "outputId": "4a3c2044-d595-406c-dedb-53e981fd1274"
      },
      "execution_count": null,
      "outputs": [
        {
          "output_type": "stream",
          "name": "stdout",
          "text": [
            "Mounted at /content/drive\n"
          ]
        }
      ]
    },
    {
      "cell_type": "code",
      "source": [
        "import pandas as pd\n",
        "\n",
        "path = \"/content/drive/MyDrive/FinalBalancedDataset.csv\"\n",
        "df = pd.read_csv(path)\n",
        "\n",
        "print(df)"
      ],
      "metadata": {
        "colab": {
          "base_uri": "https://localhost:8080/"
        },
        "id": "LEqDH3k3ZajS",
        "outputId": "bbf3b601-9a8c-4f8b-af5a-ae733322a20c"
      },
      "execution_count": null,
      "outputs": [
        {
          "output_type": "stream",
          "name": "stdout",
          "text": [
            "       Unnamed: 0  Toxicity                                              tweet\n",
            "0               0         0   @user when a father is dysfunctional and is s...\n",
            "1               1         0  @user @user thanks for #lyft credit i can't us...\n",
            "2               2         0                                bihday your majesty\n",
            "3               3         0  #model   i love u take with u all the time in ...\n",
            "4               4         0             factsguide: society now    #motivation\n",
            "...           ...       ...                                                ...\n",
            "56740       56740         1  you's a muthaf***in lie &#8220;@LifeAsKing: @2...\n",
            "56741       56741         1  you've gone and broke the wrong heart baby, an...\n",
            "56742       56742         1  young buck wanna eat!!.. dat nigguh like I ain...\n",
            "56743       56743         1              youu got wild bitches tellin you lies\n",
            "56744       56744         0  ~~Ruffled | Ntac Eileen Dahlia - Beautiful col...\n",
            "\n",
            "[56745 rows x 3 columns]\n"
          ]
        }
      ]
    }
  ]
}